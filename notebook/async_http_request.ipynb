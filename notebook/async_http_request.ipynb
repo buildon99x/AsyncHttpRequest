{
 "cells": [
  {
   "cell_type": "code",
   "execution_count": 20,
   "metadata": {},
   "outputs": [],
   "source": [
    "import grequests\n",
    "import requests\n",
    "import time \n",
    "# pip install grequests\n"
   ]
  },
  {
   "cell_type": "code",
   "execution_count": 12,
   "metadata": {},
   "outputs": [
    {
     "name": "stdout",
     "output_type": "stream",
     "text": [
      "6\n"
     ]
    },
    {
     "name": "stderr",
     "output_type": "stream",
     "text": [
      "c:\\ProgramData\\Anaconda3\\lib\\site-packages\\gevent\\hub.py:154: UserWarning: libuv only supports millisecond timer resolution; all times less will be set to 1 ms\n",
      "  with loop.timer(seconds, ref=ref) as t:\n"
     ]
    }
   ],
   "source": [
    "urls = [\n",
    "    \"https://finviz.com/screener.ashx?v=152&ft=4\"\n",
    ",   \"https://finviz.com/screener.ashx?v=152&ft=4&r=21\"\n",
    ",   \"https://finviz.com/screener.ashx?v=152&ft=4&r=41\"\n",
    ",   \"https://finviz.com/screener.ashx?v=152&ft=4&r=61\"\n",
    ",   \"https://finviz.com/screener.ashx?v=152&ft=4&r=81\"\n",
    ",   \"https://finviz.com/screener.ashx?v=152&ft=4&r=101\"\n",
    "]\n",
    "\n",
    "headers = {\n",
    "    'Referer': 'https://freemidi.org/download-20225',\n",
    "    \"User-Agent\": \"Mozilla/5.0 (Windows NT 10.0; Win64; x64) AppleWebKit/537.36 (KHTML, like Gecko) Chrome/58.0.3029.110 Safari/537.36\"\n",
    "}\n"
   ]
  },
  {
   "cell_type": "code",
   "execution_count": 39,
   "metadata": {},
   "outputs": [
    {
     "name": "stderr",
     "output_type": "stream",
     "text": [
      "c:\\ProgramData\\Anaconda3\\lib\\site-packages\\gevent\\hub.py:154: UserWarning: libuv only supports millisecond timer resolution; all times less will be set to 1 ms\n",
      "  with loop.timer(seconds, ref=ref) as t:\n"
     ]
    }
   ],
   "source": [
    "def req_normal(urls, headers):\n",
    "    res_list=[]\n",
    "    for url in urls:\n",
    "        res = requests.get(url=url, headers=headers)\n",
    "        res_list.append(res)\n",
    "    return res_list\n",
    "\n",
    "def req_async_exception(e):\n",
    "    print(e)\n",
    "\n",
    "def req_async(urls, headers):    \n",
    "    req_tasks = [grequests.get(url, headers=headers) for url in urls]\n",
    "    #print(len(req_tasks))\n",
    "    return grequests.map(req_tasks, exception_handler=req_async_exception, size=2, gtimeout=1)\n",
    "\n",
    "def response2file(tag, response_list):\n",
    "    page=0\n",
    "    for res in response_list:\n",
    "        page = page + 1\n",
    "        with open(f\"./data/{tag}_{page}.html\", \"w\",  encoding='utf8') as f:\n",
    "            f.write(res.text)"
   ]
  },
  {
   "cell_type": "code",
   "execution_count": 41,
   "metadata": {},
   "outputs": [
    {
     "name": "stdout",
     "output_type": "stream",
     "text": [
      "req_normal() Durations : 1.9974486828 s\n"
     ]
    }
   ],
   "source": [
    "s = time.time()\n",
    "r = req_normal(urls, headers)\n",
    "response2file(tag=\"req_normal_\", response_list=r)\n",
    "e = time.time()\n",
    "print(f\"req_normal() Durations : {round(e-s, 10)} s\")"
   ]
  },
  {
   "cell_type": "code",
   "execution_count": 40,
   "metadata": {},
   "outputs": [
    {
     "name": "stdout",
     "output_type": "stream",
     "text": [
      "req_async() Durations : 0.9877688885 s\n"
     ]
    }
   ],
   "source": [
    "s = time.time()\n",
    "r = req_async(urls, headers)\n",
    "response2file(tag=\"req_async_\", response_list=r)\n",
    "e = time.time()\n",
    "print(f\"req_async() Durations : {round(e-s, 10)} s\")"
   ]
  }
 ],
 "metadata": {
  "kernelspec": {
   "display_name": "Python 3.7.4 ('base')",
   "language": "python",
   "name": "python3"
  },
  "language_info": {
   "codemirror_mode": {
    "name": "ipython",
    "version": 3
   },
   "file_extension": ".py",
   "mimetype": "text/x-python",
   "name": "python",
   "nbconvert_exporter": "python",
   "pygments_lexer": "ipython3",
   "version": "3.7.4"
  },
  "orig_nbformat": 4,
  "vscode": {
   "interpreter": {
    "hash": "ad2bdc8ecc057115af97d19610ffacc2b4e99fae6737bb82f5d7fb13d2f2c186"
   }
  }
 },
 "nbformat": 4,
 "nbformat_minor": 2
}
